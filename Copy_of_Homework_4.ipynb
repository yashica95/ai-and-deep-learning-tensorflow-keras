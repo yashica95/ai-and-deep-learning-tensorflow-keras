{
  "nbformat": 4,
  "nbformat_minor": 0,
  "metadata": {
    "colab": {
      "name": "Copy of Homework 4.ipynb",
      "provenance": [],
      "collapsed_sections": []
    },
    "kernelspec": {
      "name": "python3",
      "display_name": "Python 3"
    }
  },
  "cells": [
    {
      "cell_type": "markdown",
      "metadata": {
        "id": "u497wtaKJg6U"
      },
      "source": [
        "# Homework\n",
        "Create a Q-learning algo for the CartPole-v0 game"
      ]
    },
    {
      "cell_type": "code",
      "metadata": {
        "id": "88icLaoaKOF4"
      },
      "source": [
        ""
      ],
      "execution_count": null,
      "outputs": []
    }
  ]
}